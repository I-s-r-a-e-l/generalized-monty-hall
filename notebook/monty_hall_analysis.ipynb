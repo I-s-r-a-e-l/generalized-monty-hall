{
 "cells": [
  {
   "cell_type": "markdown",
   "id": "8d6541b4",
   "metadata": {},
   "source": [
    "# 🧠 Generalized Monty Hall Simulation Analysis\n",
    "This notebook explores the classic and generalized Monty Hall problem using Monte Carlo simulations.\n",
    "We compare the outcomes of switching vs not switching across different numbers of doors."
   ]
  },
  {
   "cell_type": "markdown",
   "id": "f533982d",
   "metadata": {},
   "source": [
    "## 🎯 Objective\n",
    "To demonstrate the counterintuitive nature of the Monty Hall problem and how the advantage of switching strategies grows as the number of doors increases."
   ]
  },
  {
   "cell_type": "code",
   "execution_count": null,
   "id": "c8e15b12",
   "metadata": {},
   "outputs": [],
   "source": [
    "# Import libraries\n",
    "import matplotlib.pyplot as plt\n",
    "import numpy as np\n",
    "import random"
   ]
  },
  {
   "cell_type": "code",
   "execution_count": null,
   "id": "98fa813f",
   "metadata": {},
   "outputs": [],
   "source": [
    "# Generalized Monty Hall simulation function\n",
    "def monty_hall_simulation(num_trials, n_doors, switch):\n",
    "    if n_doors < 3:\n",
    "        raise ValueError(\"There must be at least 3 doors.\")\n",
    "    wins = 0\n",
    "    doors = list(range(n_doors))\n",
    "    for _ in range(num_trials):\n",
    "        car_location = random.choice(doors)\n",
    "        initial_choice = random.choice(doors)\n",
    "        available_doors_to_open = [d for d in doors if d != car_location and d != initial_choice]\n",
    "        doors_opened_by_host = random.sample(available_doors_to_open, n_doors - 2)\n",
    "        if switch:\n",
    "            final_choice = next(d for d in doors if d != initial_choice and d not in doors_opened_by_host)\n",
    "        else:\n",
    "            final_choice = initial_choice\n",
    "        if final_choice == car_location:\n",
    "            wins += 1\n",
    "    return wins / num_trials"
   ]
  },
  {
   "cell_type": "code",
   "execution_count": null,
   "id": "2ac0e44e",
   "metadata": {},
   "outputs": [],
   "source": [
    "# Run simulations for multiple values of n\n",
    "def run_simulations(n_values, num_trials):\n",
    "    no_switch_rates = []\n",
    "    switch_rates = []\n",
    "    for n in n_values:\n",
    "        no_switch_rates.append(monty_hall_simulation(num_trials, n, False))\n",
    "        switch_rates.append(monty_hall_simulation(num_trials, n, True))\n",
    "    return no_switch_rates, switch_rates"
   ]
  },
  {
   "cell_type": "code",
   "execution_count": null,
   "id": "0bcd89a5",
   "metadata": {},
   "outputs": [],
   "source": [
    "# Define parameters and run\n",
    "n_values = [3, 5, 10, 25, 50, 100]\n",
    "num_trials = 10000\n",
    "no_switch_rates, switch_rates = run_simulations(n_values, num_trials)"
   ]
  },
  {
   "cell_type": "code",
   "execution_count": null,
   "id": "0b39040f",
   "metadata": {},
   "outputs": [],
   "source": [
    "# Plot the results\n",
    "plt.figure(figsize=(10, 6))\n",
    "plt.plot(n_values, no_switch_rates, 'o-', label='No Switch')\n",
    "plt.plot(n_values, switch_rates, 'o-', label='Switch')\n",
    "plt.plot(n_values, [1/n for n in n_values], '--', label='Theory (No Switch)')\n",
    "plt.plot(n_values, [(n-1)/n for n in n_values], '--', label='Theory (Switch)')\n",
    "plt.xlabel('Number of Doors (n)')\n",
    "plt.ylabel('Winning Probability')\n",
    "plt.title('Winning Probability vs Number of Doors')\n",
    "plt.legend()\n",
    "plt.grid(True)\n",
    "plt.tight_layout()\n",
    "plt.show()"
   ]
  },
  {
   "cell_type": "markdown",
   "id": "60619713",
   "metadata": {},
   "source": [
    "## 🔍 Insights\n",
    "- As expected, switching becomes increasingly advantageous with more doors.\n",
    "- Theoretical and empirical results align closely, especially at higher trial counts.\n",
    "- Monte Carlo simulation validates probabilistic intuition and helps reveal underlying mechanics."
   ]
  },
  {
   "cell_type": "markdown",
   "id": "c687eaee",
   "metadata": {},
   "source": [
    "## 📌 Next Steps\n",
    "- Add confidence intervals\n",
    "- Include animated simulations\n",
    "- Analyze convergence behavior\n",
    "- Explore host strategy variations"
   ]
  }
 ],
 "metadata": {},
 "nbformat": 4,
 "nbformat_minor": 5
}
